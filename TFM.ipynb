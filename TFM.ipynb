{
 "cells": [
  {
   "cell_type": "markdown",
   "metadata": {
    "id": "pMq4k59Qcakv"
   },
   "source": [
    "# TFM: Sistema de soporte a las decisiones para invertir en el mercado de valores mediante el uso de predictiva analítica"
   ]
  },
  {
   "cell_type": "markdown",
   "metadata": {
    "id": "NWONxM_0dMI1"
   },
   "source": [
    "# Preparación entorno Spark\n",
    "\n",
    "\n",
    "---\n",
    "\n",
    "\n",
    "\n",
    "\n"
   ]
  },
  {
   "cell_type": "code",
   "execution_count": 1,
   "metadata": {
    "id": "ZzgvPo147YlH"
   },
   "outputs": [],
   "source": [
    "#Agregar variables de entorno JAVA y SPARK\n",
    "import os\n",
    "os.environ[\"SPARK_HOME\"] = \"/Users/marc/spark-3.1.1-bin-hadoop2.7\"\n",
    "os.environ[\"JAVA_HOME\"] = \"/Library/Java/JavaVirtualMachines/jdk1.8.0_261.jdk/Contents/Home\""
   ]
  },
  {
   "cell_type": "code",
   "execution_count": 2,
   "metadata": {},
   "outputs": [],
   "source": [
    "import pandas as pd\n",
    "import numpy as np"
   ]
  },
  {
   "cell_type": "code",
   "execution_count": 3,
   "metadata": {},
   "outputs": [],
   "source": [
    "import statsmodels.api as sm\n",
    "import matplotlib.pyplot as plt\n",
    "import seaborn as sns\n",
    "from sklearn.model_selection import train_test_split"
   ]
  },
  {
   "cell_type": "code",
   "execution_count": 4,
   "metadata": {},
   "outputs": [],
   "source": [
    "import findspark\n",
    "findspark.init()\n",
    "import pyspark\n",
    "from pyspark import SparkContext, SparkConf\n",
    "from pyspark.sql import SparkSession, SQLContext, Row\n",
    "from pyspark.sql.types import *\n",
    "from pyspark.mllib.stat import Statistics\n",
    "conf = pyspark.SparkConf().setAppName('spark_app').setMaster('local')\n",
    "sc = pyspark.SparkContext(conf=conf)\n",
    "spark = SparkSession(sc)\n",
    "sqlContext = SQLContext(sc)"
   ]
  },
  {
   "cell_type": "markdown",
   "metadata": {},
   "source": [
    "## Carga del dataset"
   ]
  },
  {
   "cell_type": "code",
   "execution_count": 5,
   "metadata": {
    "colab": {
     "base_uri": "https://localhost:8080/",
     "height": 198
    },
    "id": "2r0KWVRp-9og",
    "outputId": "d37714d6-7ec3-4458-f169-a4b574e9e22b"
   },
   "outputs": [
    {
     "data": {
      "text/html": [
       "<div>\n",
       "<style scoped>\n",
       "    .dataframe tbody tr th:only-of-type {\n",
       "        vertical-align: middle;\n",
       "    }\n",
       "\n",
       "    .dataframe tbody tr th {\n",
       "        vertical-align: top;\n",
       "    }\n",
       "\n",
       "    .dataframe thead th {\n",
       "        text-align: right;\n",
       "    }\n",
       "</style>\n",
       "<table border=\"1\" class=\"dataframe\">\n",
       "  <thead>\n",
       "    <tr style=\"text-align: right;\">\n",
       "      <th></th>\n",
       "      <th>Year</th>\n",
       "      <th>CID</th>\n",
       "      <th>Currency</th>\n",
       "      <th>Exchange</th>\n",
       "      <th>Exchange Name</th>\n",
       "      <th>Industry</th>\n",
       "      <th>Next year price</th>\n",
       "      <th>Company Name</th>\n",
       "      <th>Revenues</th>\n",
       "      <th>Depreciation &amp; Amortization</th>\n",
       "      <th>...</th>\n",
       "      <th>Interest Expense</th>\n",
       "      <th>Income Tax Expense</th>\n",
       "      <th>Weighted Average Diluted Shares Outstanding</th>\n",
       "      <th>Capital Expenditure</th>\n",
       "      <th>Cash And Equivalents</th>\n",
       "      <th>Current Portion of Long-Term Debt</th>\n",
       "      <th>Long-Term Debt</th>\n",
       "      <th>Goodwill</th>\n",
       "      <th>Total Equity</th>\n",
       "      <th>Cash Flow per Share</th>\n",
       "    </tr>\n",
       "  </thead>\n",
       "  <tbody>\n",
       "    <tr>\n",
       "      <th>0</th>\n",
       "      <td>2015.0</td>\n",
       "      <td>25307.0</td>\n",
       "      <td>USD</td>\n",
       "      <td>NYSE</td>\n",
       "      <td>New York Stock Exchange</td>\n",
       "      <td>Specialty Retail</td>\n",
       "      <td>789.79</td>\n",
       "      <td>AutoZone, Inc.</td>\n",
       "      <td>10187.340</td>\n",
       "      <td>269.919</td>\n",
       "      <td>...</td>\n",
       "      <td>-152.044</td>\n",
       "      <td>-642.371</td>\n",
       "      <td>32.206</td>\n",
       "      <td>-480.579</td>\n",
       "      <td>175.309</td>\n",
       "      <td>NaN</td>\n",
       "      <td>4624.876</td>\n",
       "      <td>391.887</td>\n",
       "      <td>-1701.390</td>\n",
       "      <td>34.298</td>\n",
       "    </tr>\n",
       "    <tr>\n",
       "      <th>1</th>\n",
       "      <td>2016.0</td>\n",
       "      <td>25307.0</td>\n",
       "      <td>USD</td>\n",
       "      <td>NYSE</td>\n",
       "      <td>New York Stock Exchange</td>\n",
       "      <td>Specialty Retail</td>\n",
       "      <td>711.37</td>\n",
       "      <td>AutoZone, Inc.</td>\n",
       "      <td>10635.676</td>\n",
       "      <td>297.397</td>\n",
       "      <td>...</td>\n",
       "      <td>-150.052</td>\n",
       "      <td>-671.707</td>\n",
       "      <td>30.488</td>\n",
       "      <td>-488.791</td>\n",
       "      <td>189.734</td>\n",
       "      <td>NaN</td>\n",
       "      <td>4924.119</td>\n",
       "      <td>391.887</td>\n",
       "      <td>-1787.538</td>\n",
       "      <td>38.217</td>\n",
       "    </tr>\n",
       "    <tr>\n",
       "      <th>2</th>\n",
       "      <td>2017.0</td>\n",
       "      <td>25307.0</td>\n",
       "      <td>USD</td>\n",
       "      <td>NYSE</td>\n",
       "      <td>New York Stock Exchange</td>\n",
       "      <td>Specialty Retail</td>\n",
       "      <td>838.34</td>\n",
       "      <td>AutoZone, Inc.</td>\n",
       "      <td>10888.676</td>\n",
       "      <td>323.051</td>\n",
       "      <td>...</td>\n",
       "      <td>-158.082</td>\n",
       "      <td>-644.620</td>\n",
       "      <td>29.065</td>\n",
       "      <td>-553.832</td>\n",
       "      <td>293.270</td>\n",
       "      <td>NaN</td>\n",
       "      <td>5081.238</td>\n",
       "      <td>391.887</td>\n",
       "      <td>-1428.377</td>\n",
       "      <td>35.764</td>\n",
       "    </tr>\n",
       "    <tr>\n",
       "      <th>3</th>\n",
       "      <td>2018.0</td>\n",
       "      <td>25307.0</td>\n",
       "      <td>USD</td>\n",
       "      <td>NYSE</td>\n",
       "      <td>New York Stock Exchange</td>\n",
       "      <td>Specialty Retail</td>\n",
       "      <td>1191.31</td>\n",
       "      <td>AutoZone, Inc.</td>\n",
       "      <td>11221.077</td>\n",
       "      <td>345.084</td>\n",
       "      <td>...</td>\n",
       "      <td>-180.163</td>\n",
       "      <td>-298.793</td>\n",
       "      <td>27.424</td>\n",
       "      <td>-521.788</td>\n",
       "      <td>217.824</td>\n",
       "      <td>NaN</td>\n",
       "      <td>5005.930</td>\n",
       "      <td>302.645</td>\n",
       "      <td>-1520.355</td>\n",
       "      <td>57.787</td>\n",
       "    </tr>\n",
       "    <tr>\n",
       "      <th>4</th>\n",
       "      <td>2019.0</td>\n",
       "      <td>25307.0</td>\n",
       "      <td>USD</td>\n",
       "      <td>NYSE</td>\n",
       "      <td>New York Stock Exchange</td>\n",
       "      <td>Specialty Retail</td>\n",
       "      <td>1185.44</td>\n",
       "      <td>AutoZone, Inc.</td>\n",
       "      <td>11863.743</td>\n",
       "      <td>365.757</td>\n",
       "      <td>...</td>\n",
       "      <td>-192.200</td>\n",
       "      <td>-414.112</td>\n",
       "      <td>25.498</td>\n",
       "      <td>-496.050</td>\n",
       "      <td>176.300</td>\n",
       "      <td>NaN</td>\n",
       "      <td>5206.344</td>\n",
       "      <td>302.645</td>\n",
       "      <td>-1713.851</td>\n",
       "      <td>65.387</td>\n",
       "    </tr>\n",
       "  </tbody>\n",
       "</table>\n",
       "<p>5 rows × 21 columns</p>\n",
       "</div>"
      ],
      "text/plain": [
       "     Year      CID Currency Exchange            Exchange Name  \\\n",
       "0  2015.0  25307.0      USD     NYSE  New York Stock Exchange   \n",
       "1  2016.0  25307.0      USD     NYSE  New York Stock Exchange   \n",
       "2  2017.0  25307.0      USD     NYSE  New York Stock Exchange   \n",
       "3  2018.0  25307.0      USD     NYSE  New York Stock Exchange   \n",
       "4  2019.0  25307.0      USD     NYSE  New York Stock Exchange   \n",
       "\n",
       "           Industry  Next year price    Company Name   Revenues  \\\n",
       "0  Specialty Retail           789.79  AutoZone, Inc.  10187.340   \n",
       "1  Specialty Retail           711.37  AutoZone, Inc.  10635.676   \n",
       "2  Specialty Retail           838.34  AutoZone, Inc.  10888.676   \n",
       "3  Specialty Retail          1191.31  AutoZone, Inc.  11221.077   \n",
       "4  Specialty Retail          1185.44  AutoZone, Inc.  11863.743   \n",
       "\n",
       "   Depreciation & Amortization  ...  Interest Expense  Income Tax Expense  \\\n",
       "0                      269.919  ...          -152.044            -642.371   \n",
       "1                      297.397  ...          -150.052            -671.707   \n",
       "2                      323.051  ...          -158.082            -644.620   \n",
       "3                      345.084  ...          -180.163            -298.793   \n",
       "4                      365.757  ...          -192.200            -414.112   \n",
       "\n",
       "   Weighted Average Diluted Shares Outstanding  Capital Expenditure  \\\n",
       "0                                       32.206             -480.579   \n",
       "1                                       30.488             -488.791   \n",
       "2                                       29.065             -553.832   \n",
       "3                                       27.424             -521.788   \n",
       "4                                       25.498             -496.050   \n",
       "\n",
       "   Cash And Equivalents  Current Portion of Long-Term Debt  Long-Term Debt  \\\n",
       "0               175.309                                NaN        4624.876   \n",
       "1               189.734                                NaN        4924.119   \n",
       "2               293.270                                NaN        5081.238   \n",
       "3               217.824                                NaN        5005.930   \n",
       "4               176.300                                NaN        5206.344   \n",
       "\n",
       "   Goodwill  Total Equity  Cash Flow per Share  \n",
       "0   391.887     -1701.390               34.298  \n",
       "1   391.887     -1787.538               38.217  \n",
       "2   391.887     -1428.377               35.764  \n",
       "3   302.645     -1520.355               57.787  \n",
       "4   302.645     -1713.851               65.387  \n",
       "\n",
       "[5 rows x 21 columns]"
      ]
     },
     "execution_count": 5,
     "metadata": {},
     "output_type": "execute_result"
    }
   ],
   "source": [
    "df = pd.read_csv(\"dataset.csv\", sep=\",\")\n",
    "df.head(5)"
   ]
  },
  {
   "cell_type": "code",
   "execution_count": 6,
   "metadata": {},
   "outputs": [
    {
     "data": {
      "text/html": [
       "<div>\n",
       "<style scoped>\n",
       "    .dataframe tbody tr th:only-of-type {\n",
       "        vertical-align: middle;\n",
       "    }\n",
       "\n",
       "    .dataframe tbody tr th {\n",
       "        vertical-align: top;\n",
       "    }\n",
       "\n",
       "    .dataframe thead th {\n",
       "        text-align: right;\n",
       "    }\n",
       "</style>\n",
       "<table border=\"1\" class=\"dataframe\">\n",
       "  <thead>\n",
       "    <tr style=\"text-align: right;\">\n",
       "      <th></th>\n",
       "      <th>Year</th>\n",
       "      <th>CID</th>\n",
       "      <th>Next year price</th>\n",
       "      <th>Revenues</th>\n",
       "      <th>Depreciation &amp; Amortization</th>\n",
       "      <th>Operating Income</th>\n",
       "      <th>Interest Expense</th>\n",
       "      <th>Income Tax Expense</th>\n",
       "      <th>Weighted Average Diluted Shares Outstanding</th>\n",
       "      <th>Capital Expenditure</th>\n",
       "      <th>Cash And Equivalents</th>\n",
       "      <th>Current Portion of Long-Term Debt</th>\n",
       "      <th>Long-Term Debt</th>\n",
       "      <th>Goodwill</th>\n",
       "      <th>Total Equity</th>\n",
       "      <th>Cash Flow per Share</th>\n",
       "    </tr>\n",
       "  </thead>\n",
       "  <tbody>\n",
       "    <tr>\n",
       "      <th>count</th>\n",
       "      <td>1304.000000</td>\n",
       "      <td>1.304000e+03</td>\n",
       "      <td>1294.000000</td>\n",
       "      <td>1248.000000</td>\n",
       "      <td>1261.000000</td>\n",
       "      <td>1283.000000</td>\n",
       "      <td>1189.000000</td>\n",
       "      <td>1253.000000</td>\n",
       "      <td>1296.000000</td>\n",
       "      <td>1206.000000</td>\n",
       "      <td>1303.000000</td>\n",
       "      <td>1014.000000</td>\n",
       "      <td>1193.000000</td>\n",
       "      <td>1128.000000</td>\n",
       "      <td>1303.000000</td>\n",
       "      <td>1295.00000</td>\n",
       "    </tr>\n",
       "    <tr>\n",
       "      <th>mean</th>\n",
       "      <td>2018.021472</td>\n",
       "      <td>1.566154e+07</td>\n",
       "      <td>2015.886371</td>\n",
       "      <td>14568.279345</td>\n",
       "      <td>0.862826</td>\n",
       "      <td>2757.204950</td>\n",
       "      <td>-347.159306</td>\n",
       "      <td>-557.134868</td>\n",
       "      <td>439.882614</td>\n",
       "      <td>-983.953765</td>\n",
       "      <td>3582.348117</td>\n",
       "      <td>631.298983</td>\n",
       "      <td>8474.660491</td>\n",
       "      <td>5707.426774</td>\n",
       "      <td>14337.186190</td>\n",
       "      <td>88.80531</td>\n",
       "    </tr>\n",
       "    <tr>\n",
       "      <th>std</th>\n",
       "      <td>2.006015</td>\n",
       "      <td>7.294345e+07</td>\n",
       "      <td>25184.033669</td>\n",
       "      <td>28915.325276</td>\n",
       "      <td>2176.018855</td>\n",
       "      <td>7453.647613</td>\n",
       "      <td>984.422573</td>\n",
       "      <td>1962.951531</td>\n",
       "      <td>1011.309283</td>\n",
       "      <td>2749.867766</td>\n",
       "      <td>19291.574325</td>\n",
       "      <td>1388.282687</td>\n",
       "      <td>18771.696459</td>\n",
       "      <td>11086.596813</td>\n",
       "      <td>42277.379537</td>\n",
       "      <td>1138.54101</td>\n",
       "    </tr>\n",
       "    <tr>\n",
       "      <th>min</th>\n",
       "      <td>2015.000000</td>\n",
       "      <td>1.960900e+04</td>\n",
       "      <td>1.310000</td>\n",
       "      <td>-0.400000</td>\n",
       "      <td>-20998.000000</td>\n",
       "      <td>-5723.000000</td>\n",
       "      <td>-18852.000000</td>\n",
       "      <td>-26774.000000</td>\n",
       "      <td>0.250000</td>\n",
       "      <td>-26490.000000</td>\n",
       "      <td>0.434000</td>\n",
       "      <td>0.001000</td>\n",
       "      <td>0.239000</td>\n",
       "      <td>0.355000</td>\n",
       "      <td>-11476.000000</td>\n",
       "      <td>-62.94200</td>\n",
       "    </tr>\n",
       "    <tr>\n",
       "      <th>25%</th>\n",
       "      <td>2016.000000</td>\n",
       "      <td>3.604000e+04</td>\n",
       "      <td>63.555000</td>\n",
       "      <td>2879.254750</td>\n",
       "      <td>-170.000000</td>\n",
       "      <td>515.508500</td>\n",
       "      <td>-273.000000</td>\n",
       "      <td>-416.300000</td>\n",
       "      <td>82.445000</td>\n",
       "      <td>-600.500000</td>\n",
       "      <td>191.438500</td>\n",
       "      <td>19.000000</td>\n",
       "      <td>1409.500000</td>\n",
       "      <td>665.700000</td>\n",
       "      <td>1670.842000</td>\n",
       "      <td>2.58750</td>\n",
       "    </tr>\n",
       "    <tr>\n",
       "      <th>50%</th>\n",
       "      <td>2018.000000</td>\n",
       "      <td>2.687990e+05</td>\n",
       "      <td>112.095000</td>\n",
       "      <td>5938.271500</td>\n",
       "      <td>69.046000</td>\n",
       "      <td>945.700000</td>\n",
       "      <td>-124.000000</td>\n",
       "      <td>-187.667000</td>\n",
       "      <td>135.834500</td>\n",
       "      <td>-233.336500</td>\n",
       "      <td>584.100000</td>\n",
       "      <td>246.673000</td>\n",
       "      <td>3396.000000</td>\n",
       "      <td>2105.000000</td>\n",
       "      <td>3846.600000</td>\n",
       "      <td>4.86800</td>\n",
       "    </tr>\n",
       "    <tr>\n",
       "      <th>75%</th>\n",
       "      <td>2020.000000</td>\n",
       "      <td>3.568050e+05</td>\n",
       "      <td>203.797500</td>\n",
       "      <td>11857.637250</td>\n",
       "      <td>242.156000</td>\n",
       "      <td>1963.448000</td>\n",
       "      <td>-50.100000</td>\n",
       "      <td>-59.600000</td>\n",
       "      <td>240.096500</td>\n",
       "      <td>-88.850000</td>\n",
       "      <td>1872.288500</td>\n",
       "      <td>579.500000</td>\n",
       "      <td>7329.470000</td>\n",
       "      <td>5173.000000</td>\n",
       "      <td>8651.061000</td>\n",
       "      <td>8.55300</td>\n",
       "    </tr>\n",
       "    <tr>\n",
       "      <th>max</th>\n",
       "      <td>2022.000000</td>\n",
       "      <td>6.362019e+08</td>\n",
       "      <td>416580.000000</td>\n",
       "      <td>279332.000000</td>\n",
       "      <td>12905.000000</td>\n",
       "      <td>136721.000000</td>\n",
       "      <td>-0.002000</td>\n",
       "      <td>21515.000000</td>\n",
       "      <td>8254.000000</td>\n",
       "      <td>-0.147000</td>\n",
       "      <td>344322.000000</td>\n",
       "      <td>24412.000000</td>\n",
       "      <td>193058.000000</td>\n",
       "      <td>81882.000000</td>\n",
       "      <td>478800.000000</td>\n",
       "      <td>20685.69200</td>\n",
       "    </tr>\n",
       "  </tbody>\n",
       "</table>\n",
       "</div>"
      ],
      "text/plain": [
       "              Year           CID  Next year price       Revenues  \\\n",
       "count  1304.000000  1.304000e+03      1294.000000    1248.000000   \n",
       "mean   2018.021472  1.566154e+07      2015.886371   14568.279345   \n",
       "std       2.006015  7.294345e+07     25184.033669   28915.325276   \n",
       "min    2015.000000  1.960900e+04         1.310000      -0.400000   \n",
       "25%    2016.000000  3.604000e+04        63.555000    2879.254750   \n",
       "50%    2018.000000  2.687990e+05       112.095000    5938.271500   \n",
       "75%    2020.000000  3.568050e+05       203.797500   11857.637250   \n",
       "max    2022.000000  6.362019e+08    416580.000000  279332.000000   \n",
       "\n",
       "       Depreciation & Amortization  Operating Income  Interest Expense  \\\n",
       "count                  1261.000000       1283.000000       1189.000000   \n",
       "mean                      0.862826       2757.204950       -347.159306   \n",
       "std                    2176.018855       7453.647613        984.422573   \n",
       "min                  -20998.000000      -5723.000000     -18852.000000   \n",
       "25%                    -170.000000        515.508500       -273.000000   \n",
       "50%                      69.046000        945.700000       -124.000000   \n",
       "75%                     242.156000       1963.448000        -50.100000   \n",
       "max                   12905.000000     136721.000000         -0.002000   \n",
       "\n",
       "       Income Tax Expense  Weighted Average Diluted Shares Outstanding  \\\n",
       "count         1253.000000                                  1296.000000   \n",
       "mean          -557.134868                                   439.882614   \n",
       "std           1962.951531                                  1011.309283   \n",
       "min         -26774.000000                                     0.250000   \n",
       "25%           -416.300000                                    82.445000   \n",
       "50%           -187.667000                                   135.834500   \n",
       "75%            -59.600000                                   240.096500   \n",
       "max          21515.000000                                  8254.000000   \n",
       "\n",
       "       Capital Expenditure  Cash And Equivalents  \\\n",
       "count          1206.000000           1303.000000   \n",
       "mean           -983.953765           3582.348117   \n",
       "std            2749.867766          19291.574325   \n",
       "min          -26490.000000              0.434000   \n",
       "25%            -600.500000            191.438500   \n",
       "50%            -233.336500            584.100000   \n",
       "75%             -88.850000           1872.288500   \n",
       "max              -0.147000         344322.000000   \n",
       "\n",
       "       Current Portion of Long-Term Debt  Long-Term Debt      Goodwill  \\\n",
       "count                        1014.000000     1193.000000   1128.000000   \n",
       "mean                          631.298983     8474.660491   5707.426774   \n",
       "std                          1388.282687    18771.696459  11086.596813   \n",
       "min                             0.001000        0.239000      0.355000   \n",
       "25%                            19.000000     1409.500000    665.700000   \n",
       "50%                           246.673000     3396.000000   2105.000000   \n",
       "75%                           579.500000     7329.470000   5173.000000   \n",
       "max                         24412.000000   193058.000000  81882.000000   \n",
       "\n",
       "        Total Equity  Cash Flow per Share  \n",
       "count    1303.000000           1295.00000  \n",
       "mean    14337.186190             88.80531  \n",
       "std     42277.379537           1138.54101  \n",
       "min    -11476.000000            -62.94200  \n",
       "25%      1670.842000              2.58750  \n",
       "50%      3846.600000              4.86800  \n",
       "75%      8651.061000              8.55300  \n",
       "max    478800.000000          20685.69200  "
      ]
     },
     "execution_count": 6,
     "metadata": {},
     "output_type": "execute_result"
    }
   ],
   "source": [
    "df.describe()"
   ]
  },
  {
   "cell_type": "code",
   "execution_count": 7,
   "metadata": {},
   "outputs": [
    {
     "data": {
      "text/plain": [
       "Year                                           1304\n",
       "CID                                            1304\n",
       "Currency                                       1305\n",
       "Exchange                                       1305\n",
       "Exchange Name                                  1305\n",
       "Industry                                       1305\n",
       "Next year price                                1294\n",
       "Company Name                                   1305\n",
       "Revenues                                       1248\n",
       "Depreciation & Amortization                    1261\n",
       "Operating Income                               1283\n",
       "Interest Expense                               1189\n",
       "Income Tax Expense                             1253\n",
       "Weighted Average Diluted Shares Outstanding    1296\n",
       "Capital Expenditure                            1206\n",
       "Cash And Equivalents                           1303\n",
       "Current Portion of Long-Term Debt              1014\n",
       "Long-Term Debt                                 1193\n",
       "Goodwill                                       1128\n",
       "Total Equity                                   1303\n",
       "Cash Flow per Share                            1295\n",
       "dtype: int64"
      ]
     },
     "execution_count": 7,
     "metadata": {},
     "output_type": "execute_result"
    }
   ],
   "source": [
    "df.count()"
   ]
  },
  {
   "cell_type": "markdown",
   "metadata": {},
   "source": [
    "## Corrección de valores faltantes"
   ]
  },
  {
   "cell_type": "markdown",
   "metadata": {},
   "source": [
    "Añadimos 0 a algunas de las celdas vacías ya que no tienen deuda y por lo tanto es 0\n",
    "y hacemos lo mismo con el Goodwill y con el Capital Expenditure"
   ]
  },
  {
   "cell_type": "code",
   "execution_count": 8,
   "metadata": {},
   "outputs": [],
   "source": [
    "\n",
    "df['Current Portion of Long-Term Debt'] = df['Current Portion of Long-Term Debt'].fillna(0)\n",
    "df['Long-Term Debt'] = df['Long-Term Debt'].fillna(0)\n",
    "df['Goodwill'] = df['Goodwill'].fillna(0)\n",
    "df['Capital Expenditure'] = df['Capital Expenditure'].fillna(0)\n"
   ]
  },
  {
   "cell_type": "markdown",
   "metadata": {},
   "source": [
    "Para realizar este estudio descartamos el año 2021 (en curso) y el 2020 por ser un año anómalo devido a la pandemia"
   ]
  },
  {
   "cell_type": "code",
   "execution_count": 9,
   "metadata": {},
   "outputs": [],
   "source": [
    "cleandf = df.drop(df[df.Year == 2020].index)\n",
    "cleandf = df.drop(df[df.Year == 2021].index)\n"
   ]
  },
  {
   "cell_type": "markdown",
   "metadata": {},
   "source": [
    "Eliminación de registros con valores nulos"
   ]
  },
  {
   "cell_type": "code",
   "execution_count": 10,
   "metadata": {},
   "outputs": [],
   "source": [
    "cleandf = df.dropna()"
   ]
  },
  {
   "cell_type": "markdown",
   "metadata": {},
   "source": [
    "Observamos cuantas compañias por año tenemos disponibles al realizar la limpieza\n"
   ]
  },
  {
   "cell_type": "code",
   "execution_count": 11,
   "metadata": {},
   "outputs": [
    {
     "data": {
      "text/html": [
       "<div>\n",
       "<style scoped>\n",
       "    .dataframe tbody tr th:only-of-type {\n",
       "        vertical-align: middle;\n",
       "    }\n",
       "\n",
       "    .dataframe tbody tr th {\n",
       "        vertical-align: top;\n",
       "    }\n",
       "\n",
       "    .dataframe thead th {\n",
       "        text-align: right;\n",
       "    }\n",
       "</style>\n",
       "<table border=\"1\" class=\"dataframe\">\n",
       "  <thead>\n",
       "    <tr style=\"text-align: right;\">\n",
       "      <th></th>\n",
       "      <th>CID</th>\n",
       "      <th>Currency</th>\n",
       "      <th>Exchange</th>\n",
       "      <th>Exchange Name</th>\n",
       "      <th>Industry</th>\n",
       "      <th>Next year price</th>\n",
       "      <th>Company Name</th>\n",
       "      <th>Revenues</th>\n",
       "      <th>Depreciation &amp; Amortization</th>\n",
       "      <th>Operating Income</th>\n",
       "      <th>Interest Expense</th>\n",
       "      <th>Income Tax Expense</th>\n",
       "      <th>Weighted Average Diluted Shares Outstanding</th>\n",
       "      <th>Capital Expenditure</th>\n",
       "      <th>Cash And Equivalents</th>\n",
       "      <th>Current Portion of Long-Term Debt</th>\n",
       "      <th>Long-Term Debt</th>\n",
       "      <th>Goodwill</th>\n",
       "      <th>Total Equity</th>\n",
       "      <th>Cash Flow per Share</th>\n",
       "    </tr>\n",
       "    <tr>\n",
       "      <th>Year</th>\n",
       "      <th></th>\n",
       "      <th></th>\n",
       "      <th></th>\n",
       "      <th></th>\n",
       "      <th></th>\n",
       "      <th></th>\n",
       "      <th></th>\n",
       "      <th></th>\n",
       "      <th></th>\n",
       "      <th></th>\n",
       "      <th></th>\n",
       "      <th></th>\n",
       "      <th></th>\n",
       "      <th></th>\n",
       "      <th></th>\n",
       "      <th></th>\n",
       "      <th></th>\n",
       "      <th></th>\n",
       "      <th></th>\n",
       "      <th></th>\n",
       "    </tr>\n",
       "  </thead>\n",
       "  <tbody>\n",
       "    <tr>\n",
       "      <th>2015.0</th>\n",
       "      <td>143</td>\n",
       "      <td>143</td>\n",
       "      <td>143</td>\n",
       "      <td>143</td>\n",
       "      <td>143</td>\n",
       "      <td>143</td>\n",
       "      <td>143</td>\n",
       "      <td>143</td>\n",
       "      <td>143</td>\n",
       "      <td>143</td>\n",
       "      <td>143</td>\n",
       "      <td>143</td>\n",
       "      <td>143</td>\n",
       "      <td>143</td>\n",
       "      <td>143</td>\n",
       "      <td>143</td>\n",
       "      <td>143</td>\n",
       "      <td>143</td>\n",
       "      <td>143</td>\n",
       "      <td>143</td>\n",
       "    </tr>\n",
       "    <tr>\n",
       "      <th>2016.0</th>\n",
       "      <td>150</td>\n",
       "      <td>150</td>\n",
       "      <td>150</td>\n",
       "      <td>150</td>\n",
       "      <td>150</td>\n",
       "      <td>150</td>\n",
       "      <td>150</td>\n",
       "      <td>150</td>\n",
       "      <td>150</td>\n",
       "      <td>150</td>\n",
       "      <td>150</td>\n",
       "      <td>150</td>\n",
       "      <td>150</td>\n",
       "      <td>150</td>\n",
       "      <td>150</td>\n",
       "      <td>150</td>\n",
       "      <td>150</td>\n",
       "      <td>150</td>\n",
       "      <td>150</td>\n",
       "      <td>150</td>\n",
       "    </tr>\n",
       "    <tr>\n",
       "      <th>2017.0</th>\n",
       "      <td>154</td>\n",
       "      <td>154</td>\n",
       "      <td>154</td>\n",
       "      <td>154</td>\n",
       "      <td>154</td>\n",
       "      <td>154</td>\n",
       "      <td>154</td>\n",
       "      <td>154</td>\n",
       "      <td>154</td>\n",
       "      <td>154</td>\n",
       "      <td>154</td>\n",
       "      <td>154</td>\n",
       "      <td>154</td>\n",
       "      <td>154</td>\n",
       "      <td>154</td>\n",
       "      <td>154</td>\n",
       "      <td>154</td>\n",
       "      <td>154</td>\n",
       "      <td>154</td>\n",
       "      <td>154</td>\n",
       "    </tr>\n",
       "    <tr>\n",
       "      <th>2018.0</th>\n",
       "      <td>157</td>\n",
       "      <td>157</td>\n",
       "      <td>157</td>\n",
       "      <td>157</td>\n",
       "      <td>157</td>\n",
       "      <td>157</td>\n",
       "      <td>157</td>\n",
       "      <td>157</td>\n",
       "      <td>157</td>\n",
       "      <td>157</td>\n",
       "      <td>157</td>\n",
       "      <td>157</td>\n",
       "      <td>157</td>\n",
       "      <td>157</td>\n",
       "      <td>157</td>\n",
       "      <td>157</td>\n",
       "      <td>157</td>\n",
       "      <td>157</td>\n",
       "      <td>157</td>\n",
       "      <td>157</td>\n",
       "    </tr>\n",
       "    <tr>\n",
       "      <th>2019.0</th>\n",
       "      <td>157</td>\n",
       "      <td>157</td>\n",
       "      <td>157</td>\n",
       "      <td>157</td>\n",
       "      <td>157</td>\n",
       "      <td>157</td>\n",
       "      <td>157</td>\n",
       "      <td>157</td>\n",
       "      <td>157</td>\n",
       "      <td>157</td>\n",
       "      <td>157</td>\n",
       "      <td>157</td>\n",
       "      <td>157</td>\n",
       "      <td>157</td>\n",
       "      <td>157</td>\n",
       "      <td>157</td>\n",
       "      <td>157</td>\n",
       "      <td>157</td>\n",
       "      <td>157</td>\n",
       "      <td>157</td>\n",
       "    </tr>\n",
       "    <tr>\n",
       "      <th>2020.0</th>\n",
       "      <td>157</td>\n",
       "      <td>157</td>\n",
       "      <td>157</td>\n",
       "      <td>157</td>\n",
       "      <td>157</td>\n",
       "      <td>157</td>\n",
       "      <td>157</td>\n",
       "      <td>157</td>\n",
       "      <td>157</td>\n",
       "      <td>157</td>\n",
       "      <td>157</td>\n",
       "      <td>157</td>\n",
       "      <td>157</td>\n",
       "      <td>157</td>\n",
       "      <td>157</td>\n",
       "      <td>157</td>\n",
       "      <td>157</td>\n",
       "      <td>157</td>\n",
       "      <td>157</td>\n",
       "      <td>157</td>\n",
       "    </tr>\n",
       "    <tr>\n",
       "      <th>2021.0</th>\n",
       "      <td>160</td>\n",
       "      <td>160</td>\n",
       "      <td>160</td>\n",
       "      <td>160</td>\n",
       "      <td>160</td>\n",
       "      <td>160</td>\n",
       "      <td>160</td>\n",
       "      <td>160</td>\n",
       "      <td>160</td>\n",
       "      <td>160</td>\n",
       "      <td>160</td>\n",
       "      <td>160</td>\n",
       "      <td>160</td>\n",
       "      <td>160</td>\n",
       "      <td>160</td>\n",
       "      <td>160</td>\n",
       "      <td>160</td>\n",
       "      <td>160</td>\n",
       "      <td>160</td>\n",
       "      <td>160</td>\n",
       "    </tr>\n",
       "  </tbody>\n",
       "</table>\n",
       "</div>"
      ],
      "text/plain": [
       "        CID  Currency  Exchange  Exchange Name  Industry  Next year price  \\\n",
       "Year                                                                        \n",
       "2015.0  143       143       143            143       143              143   \n",
       "2016.0  150       150       150            150       150              150   \n",
       "2017.0  154       154       154            154       154              154   \n",
       "2018.0  157       157       157            157       157              157   \n",
       "2019.0  157       157       157            157       157              157   \n",
       "2020.0  157       157       157            157       157              157   \n",
       "2021.0  160       160       160            160       160              160   \n",
       "\n",
       "        Company Name  Revenues  Depreciation & Amortization  Operating Income  \\\n",
       "Year                                                                            \n",
       "2015.0           143       143                          143               143   \n",
       "2016.0           150       150                          150               150   \n",
       "2017.0           154       154                          154               154   \n",
       "2018.0           157       157                          157               157   \n",
       "2019.0           157       157                          157               157   \n",
       "2020.0           157       157                          157               157   \n",
       "2021.0           160       160                          160               160   \n",
       "\n",
       "        Interest Expense  Income Tax Expense  \\\n",
       "Year                                           \n",
       "2015.0               143                 143   \n",
       "2016.0               150                 150   \n",
       "2017.0               154                 154   \n",
       "2018.0               157                 157   \n",
       "2019.0               157                 157   \n",
       "2020.0               157                 157   \n",
       "2021.0               160                 160   \n",
       "\n",
       "        Weighted Average Diluted Shares Outstanding  Capital Expenditure  \\\n",
       "Year                                                                       \n",
       "2015.0                                          143                  143   \n",
       "2016.0                                          150                  150   \n",
       "2017.0                                          154                  154   \n",
       "2018.0                                          157                  157   \n",
       "2019.0                                          157                  157   \n",
       "2020.0                                          157                  157   \n",
       "2021.0                                          160                  160   \n",
       "\n",
       "        Cash And Equivalents  Current Portion of Long-Term Debt  \\\n",
       "Year                                                              \n",
       "2015.0                   143                                143   \n",
       "2016.0                   150                                150   \n",
       "2017.0                   154                                154   \n",
       "2018.0                   157                                157   \n",
       "2019.0                   157                                157   \n",
       "2020.0                   157                                157   \n",
       "2021.0                   160                                160   \n",
       "\n",
       "        Long-Term Debt  Goodwill  Total Equity  Cash Flow per Share  \n",
       "Year                                                                 \n",
       "2015.0             143       143           143                  143  \n",
       "2016.0             150       150           150                  150  \n",
       "2017.0             154       154           154                  154  \n",
       "2018.0             157       157           157                  157  \n",
       "2019.0             157       157           157                  157  \n",
       "2020.0             157       157           157                  157  \n",
       "2021.0             160       160           160                  160  "
      ]
     },
     "execution_count": 11,
     "metadata": {},
     "output_type": "execute_result"
    }
   ],
   "source": [
    "cleandf.groupby('Year').count()"
   ]
  },
  {
   "cell_type": "markdown",
   "metadata": {},
   "source": [
    "## Correlación de las variables"
   ]
  },
  {
   "cell_type": "markdown",
   "metadata": {},
   "source": [
    "A continuación se muestra la matriz de correlación de las variables"
   ]
  },
  {
   "cell_type": "code",
   "execution_count": 12,
   "metadata": {},
   "outputs": [
    {
     "data": {
      "image/png": "[encoded data removed]",
      "text/plain": [
       "<Figure size 720x576 with 2 Axes>"
      ]
     },
     "metadata": {
      "needs_background": "light"
     },
     "output_type": "display_data"
    }
   ],
   "source": [
    "f, ax = plt.subplots(figsize=(10, 8))\n",
    "plt.title('Pearson Correlation Matrix',fontsize=25)\n",
    "features = ['Next year price', 'Industry', 'Revenues', 'Depreciation & Amortization', 'Operating Income', \n",
    "            'Interest Expense', 'Income Tax Expense', 'Weighted Average Diluted Shares Outstanding',\n",
    "            'Capital Expenditure', 'Cash And Equivalents', 'Current Portion of Long-Term Debt', 'Long-Term Debt',\n",
    "            'Goodwill', 'Total Equity', 'Cash Flow per Share']\n",
    "corr = cleandf[features].corr()\n",
    "sns.heatmap(corr, cmap=\"BuGn\", annot=True)\n",
    "plt.show()"
   ]
  },
  {
   "cell_type": "markdown",
   "metadata": {},
   "source": [
    "Se ordena de mayor a menor correlacción y se muestra un total de 10 variables"
   ]
  },
  {
   "cell_type": "code",
   "execution_count": 13,
   "metadata": {},
   "outputs": [
    {
     "data": {
      "image/png": "[encoded data removed]",
      "text/plain": [
       "<Figure size 576x504 with 2 Axes>"
      ]
     },
     "metadata": {
      "needs_background": "light"
     },
     "output_type": "display_data"
    }
   ],
   "source": [
    "f, ax = plt.subplots(figsize=(8, 7))\n",
    "plt.title('Pearson Correlation Matrix',fontsize=25)\n",
    "top_corr = cleandf[features].corr()\n",
    "top_corr = cleandf[corr[\"Next year price\"].sort_values(ascending=False)[:10].index].corr()\n",
    "sns.heatmap(top_corr, annot=True, cmap=\"BuGn\")\n",
    "plt.show()"
   ]
  },
  {
   "cell_type": "markdown",
   "metadata": {},
   "source": [
    "Realizando el gráfico de correlación de Pearson observamos hay una fuerte correlación entre el precio y los siguientes ratios:\n",
    "\n",
    "- Cash flow per share: 0.98\n",
    "- Total equity: 0.77\n",
    "- Cash and equivalents: 0.66\n",
    "- Operating Income: 0.62\n",
    "- Goodwill 0.5\n",
    "- Long term debt: 0.5\n",
    "    "
   ]
  },
  {
   "cell_type": "markdown",
   "metadata": {},
   "source": [
    "Como podemos oberservar también existe una fuerte correlación entre ellas. Por lo tanto, la mejor práctica es seleccionar características que estén altamente correlacionadas con el precio, pero que no estén correlacionadas entre sí. Por ahora, elegiremos lo siguiente:\n",
    "- Depreciation & Amortization\n",
    "- Income Tax Expense\n",
    "- Current Portion of Long-Term Debt\n",
    "- Cash Flow per Share\n"
   ]
  },
  {
   "cell_type": "markdown",
   "metadata": {},
   "source": [
    "Seleccionamos aquellas variables dependientes e independientes"
   ]
  },
  {
   "cell_type": "code",
   "execution_count": 14,
   "metadata": {},
   "outputs": [],
   "source": [
    "# Independientes\n",
    "x = cleandf[['Current Portion of Long-Term Debt', \n",
    "            'Cash Flow per Share']]\n",
    "# Objetivo\n",
    "y = cleandf[[ 'Next year price']]"
   ]
  },
  {
   "cell_type": "markdown",
   "metadata": {},
   "source": [
    "## Separar datos de entrenamiento y test"
   ]
  },
  {
   "cell_type": "markdown",
   "metadata": {},
   "source": [
    "Separamos los datos de entrenamiento de forma aleatoria, usamos un 30% de los datos para test"
   ]
  },
  {
   "cell_type": "code",
   "execution_count": 15,
   "metadata": {},
   "outputs": [],
   "source": [
    "X_train, X_test, y_train, y_test = train_test_split(\n",
    "                                                    x, \n",
    "                                                    y, \n",
    "                                                    test_size=0.2, \n",
    "                                                    random_state=42\n",
    "                                                   )"
   ]
  },
  {
   "cell_type": "markdown",
   "metadata": {},
   "source": [
    "## Mínimos cuadrados ordinarios"
   ]
  },
  {
   "cell_type": "markdown",
   "metadata": {},
   "source": [
    "Se comprueba si el R-squared se mantiene o disminuye con las variables anteriormente elegidas.\n",
    "La mejor combinación la obtenemos con las variables:\n",
    "- Current Portion of Long-Term Debt\n",
    "- Cash Flow per Share  "
   ]
  },
  {
   "cell_type": "code",
   "execution_count": 16,
   "metadata": {},
   "outputs": [
    {
     "name": "stdout",
     "output_type": "stream",
     "text": [
      "                                 OLS Regression Results                                \n",
      "=======================================================================================\n",
      "Dep. Variable:        Next year price   R-squared (uncentered):                   0.996\n",
      "Model:                            OLS   Adj. R-squared (uncentered):              0.996\n",
      "Method:                 Least Squares   F-statistic:                          1.203e+05\n",
      "Date:                Thu, 14 Oct 2021   Prob (F-statistic):                        0.00\n",
      "Time:                        23:28:13   Log-Likelihood:                         -7598.8\n",
      "No. Observations:                 862   AIC:                                  1.520e+04\n",
      "Df Residuals:                     860   BIC:                                  1.521e+04\n",
      "Df Model:                           2                                                  \n",
      "Covariance Type:            nonrobust                                                  \n",
      "=====================================================================================================\n",
      "                                        coef    std err          t      P>|t|      [0.025      0.975]\n",
      "-----------------------------------------------------------------------------------------------------\n",
      "Current Portion of Long-Term Debt    -0.1708      0.046     -3.704      0.000      -0.261      -0.080\n",
      "Cash Flow per Share                  24.0125      0.051    472.443      0.000      23.913      24.112\n",
      "==============================================================================\n",
      "Omnibus:                     1499.219   Durbin-Watson:                   1.973\n",
      "Prob(Omnibus):                  0.000   Jarque-Bera (JB):          4592047.359\n",
      "Skew:                         -10.576   Prob(JB):                         0.00\n",
      "Kurtosis:                     359.939   Cond. No.                         1.35\n",
      "==============================================================================\n",
      "\n",
      "Notes:\n",
      "[1] R² is computed without centering (uncentered) since the model does not contain a constant.\n",
      "[2] Standard Errors assume that the covariance matrix of the errors is correctly specified.\n"
     ]
    }
   ],
   "source": [
    "mod = sm.OLS(y_train, X_train)\n",
    "res = mod.fit()\n",
    "print(res.summary())"
   ]
  },
  {
   "cell_type": "markdown",
   "metadata": {},
   "source": [
    "## Outliers"
   ]
  },
  {
   "cell_type": "markdown",
   "metadata": {},
   "source": [
    "Se comprueba visualmente si existen outliers. En este caso se pueden observar que algunos puntos se ecuentrán fuera."
   ]
  },
  {
   "cell_type": "code",
   "execution_count": 17,
   "metadata": {},
   "outputs": [
    {
     "data": {
      "image/png": "[encoded data removed]",
      "text/plain": [
       "<Figure size 432x288 with 1 Axes>"
      ]
     },
     "metadata": {
      "needs_background": "light"
     },
     "output_type": "display_data"
    }
   ],
   "source": [
    "cleandf[['Current Portion of Long-Term Debt','Next year price']].plot.scatter(y='Next year price', x='Current Portion of Long-Term Debt')\n",
    "plt.show()"
   ]
  },
  {
   "cell_type": "markdown",
   "metadata": {},
   "source": [
    "Se realiza el mismo proceso con la varible cashflow"
   ]
  },
  {
   "cell_type": "code",
   "execution_count": 18,
   "metadata": {},
   "outputs": [
    {
     "data": {
      "image/png": "[encoded data removed]",
      "text/plain": [
       "<Figure size 432x288 with 1 Axes>"
      ]
     },
     "metadata": {
      "needs_background": "light"
     },
     "output_type": "display_data"
    }
   ],
   "source": [
    "cleandf[['Cash Flow per Share','Next year price']].plot.scatter(y='Next year price', x='Cash Flow per Share')\n",
    "plt.show()"
   ]
  },
  {
   "cell_type": "code",
   "execution_count": 19,
   "metadata": {},
   "outputs": [
    {
     "data": {
      "text/plain": [
       "7"
      ]
     },
     "execution_count": 19,
     "metadata": {},
     "output_type": "execute_result"
    }
   ],
   "source": [
    "cleandf[cleandf['Next year price'] > 200000]['Next year price'].count()"
   ]
  },
  {
   "cell_type": "code",
   "execution_count": 20,
   "metadata": {},
   "outputs": [],
   "source": [
    "outdf = cleandf[cleandf['Next year price'] < 1000]"
   ]
  },
  {
   "cell_type": "code",
   "execution_count": 21,
   "metadata": {},
   "outputs": [
    {
     "data": {
      "image/png": "[encoded data removed]",
      "text/plain": [
       "<Figure size 432x288 with 1 Axes>"
      ]
     },
     "metadata": {
      "needs_background": "light"
     },
     "output_type": "display_data"
    },
    {
     "data": {
      "image/png": "[encoded data removed]",
      "text/plain": [
       "<Figure size 432x288 with 1 Axes>"
      ]
     },
     "metadata": {
      "needs_background": "light"
     },
     "output_type": "display_data"
    }
   ],
   "source": [
    "outdf[['Current Portion of Long-Term Debt','Next year price']].plot.scatter(y='Next year price', x='Current Portion of Long-Term Debt')\n",
    "outdf[['Cash Flow per Share','Next year price']].plot.scatter(y='Next year price', x='Cash Flow per Share')\n",
    "plt.show()"
   ]
  },
  {
   "cell_type": "markdown",
   "metadata": {},
   "source": [
    "Se cargan otra vez los datos filtrados"
   ]
  },
  {
   "cell_type": "markdown",
   "metadata": {},
   "source": [
    "## Función de evaluación"
   ]
  },
  {
   "cell_type": "markdown",
   "metadata": {},
   "source": [
    "Función para evaluar los algoritmos"
   ]
  },
  {
   "cell_type": "code",
   "execution_count": 22,
   "metadata": {},
   "outputs": [],
   "source": [
    "from sklearn import metrics\n",
    "#create comparison table\n",
    "df_statistics = pd.DataFrame(columns = ['Model', 'MAE', 'MSE', 'RMSE', 'R2 Square'])\n",
    "\n",
    "def evaluate(real, predicted, model_name):  \n",
    "    mae = metrics.mean_absolute_error(real, predicted)\n",
    "    mse = metrics.mean_squared_error(real, predicted)\n",
    "    rmse = np.sqrt(metrics.mean_squared_error(real, predicted))\n",
    "    r2_square = metrics.r2_score(real, predicted)\n",
    "    print('MAE:', mae)\n",
    "    print('MSE:', mse)\n",
    "    print('RMSE:', rmse)\n",
    "    print('R2 Square', r2_square)  \n",
    "    global df_statistics\n",
    "    new_model = {'Model':model_name, 'MAE':mae, 'MSE':mse, 'RMSE':rmse, 'R2 Square':r2_square}\n",
    "    df_statistics = df_statistics.append(new_model, ignore_index=True)\n",
    "    "
   ]
  },
  {
   "cell_type": "markdown",
   "metadata": {},
   "source": [
    "## Linear Regression"
   ]
  },
  {
   "cell_type": "code",
   "execution_count": 23,
   "metadata": {},
   "outputs": [],
   "source": [
    "from sklearn.linear_model import LinearRegression\n",
    "from sklearn.model_selection import train_test_split\n",
    "from sklearn import preprocessing"
   ]
  },
  {
   "cell_type": "code",
   "execution_count": 24,
   "metadata": {},
   "outputs": [
    {
     "name": "stdout",
     "output_type": "stream",
     "text": [
      "MAE: 1118.582913136669\n",
      "MSE: 169414142.21886247\n",
      "RMSE: 13015.918800409845\n",
      "R2 Square 0.7970756709295186\n"
     ]
    }
   ],
   "source": [
    "lr = LinearRegression()\n",
    "lr.fit(X_train,y_train)\n",
    "test_pre = lr.predict(X_test)\n",
    "train_pre = lr.predict(X_train)\n",
    "evaluate(y_test, test_pre , \"Lineal regression\")"
   ]
  },
  {
   "cell_type": "code",
   "execution_count": 25,
   "metadata": {},
   "outputs": [
    {
     "data": {
      "image/png": "[encoded data removed]",
      "text/plain": [
       "<Figure size 432x288 with 1 Axes>"
      ]
     },
     "metadata": {
      "needs_background": "light"
     },
     "output_type": "display_data"
    }
   ],
   "source": [
    "plt.scatter(train_pre, y_train, c = \"blue\",  label = \"Training\")\n",
    "plt.scatter(test_pre, y_test, c = \"black\",  label = \"Validation\")\n",
    "plt.title(\"Linear regression\")\n",
    "plt.xlabel(\"Predicted values\")\n",
    "plt.ylabel(\"Real values\")\n",
    "plt.legend(loc = \"upper right\")\n",
    "plt.plot([0.2*10**6, 0.25*10**7], [0.2*10**6, 0.25*10**7], c = \"red\")\n",
    "plt.show()"
   ]
  },
  {
   "cell_type": "markdown",
   "metadata": {},
   "source": [
    "## Support Vector Machine"
   ]
  },
  {
   "cell_type": "code",
   "execution_count": 26,
   "metadata": {},
   "outputs": [],
   "source": [
    "from sklearn.svm import SVR\n",
    "from math import sqrt\n"
   ]
  },
  {
   "cell_type": "markdown",
   "metadata": {},
   "source": [
    "Testeamos los distintos kernels para ver con cual se obtiene mejores resultados"
   ]
  },
  {
   "cell_type": "code",
   "execution_count": 27,
   "metadata": {},
   "outputs": [
    {
     "name": "stdout",
     "output_type": "stream",
     "text": [
      "linear 0.9950637593019964 14119.21229365513\n",
      "poly 0.9230953546737453 55446.00365604829\n",
      "rbf -0.006132805936485797 29034.333369606615\n",
      "sigmoid -0.005940123181182644 29031.790837707063\n"
     ]
    }
   ],
   "source": [
    "for k in ['linear','poly','rbf','sigmoid']:\n",
    "    clf = SVR(kernel=k)\n",
    "    clf.fit(X_train, np.ravel(y_train))\n",
    "    confidence = clf.score(X_train, np.ravel(y_train))\n",
    "    error = sqrt(metrics.mean_squared_error(y_test,clf.predict(X_test)))\n",
    "    print(k,confidence, error)"
   ]
  },
  {
   "cell_type": "markdown",
   "metadata": {},
   "source": [
    "Elegimos el que mayor coincidencia obtenemos"
   ]
  },
  {
   "cell_type": "code",
   "execution_count": 28,
   "metadata": {},
   "outputs": [
    {
     "name": "stdout",
     "output_type": "stream",
     "text": [
      "MAE: 1060.546510885231\n",
      "MSE: 199352155.79330212\n",
      "RMSE: 14119.21229365513\n",
      "R2 Square 0.761215905984702\n"
     ]
    }
   ],
   "source": [
    "svr_linear = SVR(kernel='linear')\n",
    "svr_linear.fit(X_train, np.ravel(y_train))\n",
    "test_pre = svr_linear.predict(X_test)\n",
    "train_pre = svr_linear.predict(X_train)\n",
    "evaluate(y_test, test_pre, \"Support Vector Machine - linear\")\n"
   ]
  },
  {
   "cell_type": "code",
   "execution_count": 29,
   "metadata": {},
   "outputs": [
    {
     "name": "stdout",
     "output_type": "stream",
     "text": [
      "MAE: 4234.361037033288\n",
      "MSE: 3074259321.4265203\n",
      "RMSE: 55446.00365604829\n",
      "R2 Square -2.6823490767566627\n"
     ]
    }
   ],
   "source": [
    "svr_linear = SVR(kernel='poly')\n",
    "svr_linear.fit(X_train, np.ravel(y_train))\n",
    "test_pre = svr_linear.predict(X_test)\n",
    "train_pre = svr_linear.predict(X_train)\n",
    "evaluate(y_test, test_pre, \"Support Vector Machine - poly\")\n"
   ]
  },
  {
   "cell_type": "markdown",
   "metadata": {},
   "source": [
    "## Random Forest Regressor"
   ]
  },
  {
   "cell_type": "code",
   "execution_count": 30,
   "metadata": {},
   "outputs": [
    {
     "name": "stdout",
     "output_type": "stream",
     "text": [
      "Test data\n",
      "MAE: 519.7109264707899\n",
      "MSE: 22899108.05606166\n",
      "RMSE: 4785.301250293617\n",
      "R2 Square 0.9725714389735793\n"
     ]
    }
   ],
   "source": [
    "from sklearn.ensemble import RandomForestRegressor\n",
    "\n",
    "rf_reg = RandomForestRegressor(n_estimators=1000)\n",
    "rf_reg.fit(X_train, np.ravel(y_train))\n",
    "\n",
    "test_pred = rf_reg.predict(X_test)\n",
    "train_pred = rf_reg.predict(X_train)\n",
    "\n",
    "print(\"Test data\")\n",
    "evaluate(y_test, test_pred, \"Random Forest\")"
   ]
  },
  {
   "cell_type": "code",
   "execution_count": 31,
   "metadata": {},
   "outputs": [
    {
     "data": {
      "image/png": "[encoded data removed]",
      "text/plain": [
       "<Figure size 432x288 with 1 Axes>"
      ]
     },
     "metadata": {
      "needs_background": "light"
     },
     "output_type": "display_data"
    }
   ],
   "source": [
    "plt.scatter(train_pred, y_train, c = \"blue\",  label = \"Training\")\n",
    "plt.scatter(test_pred, y_test, c = \"black\",  label = \"Validation\")\n",
    "plt.title(\"Linear regression\")\n",
    "plt.xlabel(\"Predicted values\")\n",
    "plt.ylabel(\"Real values\")\n",
    "plt.legend(loc = \"upper right\")\n",
    "plt.plot([0.2*10**6, 0.25*10**7], [0.2*10**6, 0.25*10**7], c = \"red\")\n",
    "plt.show()"
   ]
  },
  {
   "cell_type": "markdown",
   "metadata": {},
   "source": [
    "## Artificial Neural Network"
   ]
  },
  {
   "cell_type": "code",
   "execution_count": 32,
   "metadata": {
    "collapsed": true,
    "jupyter": {
     "outputs_hidden": true
    }
   },
   "outputs": [
    {
     "name": "stdout",
     "output_type": "stream",
     "text": [
      "Epoch 1/100\n",
      "862/862 [==============================] - 2s 1ms/step - loss: 746040704.0000 - val_loss: 843616704.0000\n",
      "Epoch 2/100\n",
      "862/862 [==============================] - 1s 1ms/step - loss: 746042368.0000 - val_loss: 843616704.0000\n",
      "Epoch 3/100\n",
      "862/862 [==============================] - 1s 1ms/step - loss: 746042880.0000 - val_loss: 843616576.0000\n",
      "Epoch 4/100\n",
      "862/862 [==============================] - 1s 1ms/step - loss: 746042816.0000 - val_loss: 843616384.0000\n",
      "Epoch 5/100\n",
      "862/862 [==============================] - 1s 1ms/step - loss: 746042560.0000 - val_loss: 843616384.0000\n",
      "Epoch 6/100\n",
      "862/862 [==============================] - 1s 1ms/step - loss: 746041728.0000 - val_loss: 843616192.0000\n",
      "Epoch 7/100\n",
      "862/862 [==============================] - 1s 1ms/step - loss: 746042432.0000 - val_loss: 843616000.0000\n",
      "Epoch 8/100\n",
      "862/862 [==============================] - 1s 1ms/step - loss: 746041216.0000 - val_loss: 843615808.0000\n",
      "Epoch 9/100\n",
      "862/862 [==============================] - 1s 1ms/step - loss: 746041472.0000 - val_loss: 843615488.0000\n",
      "Epoch 10/100\n",
      "862/862 [==============================] - 1s 1ms/step - loss: 746042880.0000 - val_loss: 843615360.0000\n",
      "Epoch 11/100\n",
      "862/862 [==============================] - 1s 1ms/step - loss: 746040384.0000 - val_loss: 843614976.0000\n",
      "Epoch 12/100\n",
      "862/862 [==============================] - 1s 1ms/step - loss: 746040704.0000 - val_loss: 843614592.0000\n",
      "Epoch 13/100\n",
      "862/862 [==============================] - 1s 1ms/step - loss: 746041344.0000 - val_loss: 843614144.0000\n",
      "Epoch 14/100\n",
      "862/862 [==============================] - 1s 1ms/step - loss: 746040000.0000 - val_loss: 843613952.0000\n",
      "Epoch 15/100\n",
      "862/862 [==============================] - 1s 1ms/step - loss: 746037120.0000 - val_loss: 843613504.0000\n",
      "Epoch 16/100\n",
      "862/862 [==============================] - 1s 1ms/step - loss: 746040384.0000 - val_loss: 843613248.0000\n",
      "Epoch 17/100\n",
      "862/862 [==============================] - 1s 1ms/step - loss: 746039296.0000 - val_loss: 843612608.0000\n",
      "Epoch 18/100\n",
      "862/862 [==============================] - 1s 1ms/step - loss: 746038464.0000 - val_loss: 843612160.0000\n",
      "Epoch 19/100\n",
      "862/862 [==============================] - 1s 1ms/step - loss: 746039616.0000 - val_loss: 843611456.0000\n",
      "Epoch 20/100\n",
      "862/862 [==============================] - 1s 1ms/step - loss: 746036608.0000 - val_loss: 843611072.0000\n",
      "Epoch 21/100\n",
      "862/862 [==============================] - 1s 1ms/step - loss: 746037952.0000 - val_loss: 843610432.0000\n",
      "Epoch 22/100\n",
      "862/862 [==============================] - 1s 1ms/step - loss: 746037248.0000 - val_loss: 843609664.0000\n",
      "Epoch 23/100\n",
      "862/862 [==============================] - 1s 1ms/step - loss: 746037440.0000 - val_loss: 843608960.0000\n",
      "Epoch 24/100\n",
      "862/862 [==============================] - 1s 1ms/step - loss: 746037120.0000 - val_loss: 843608128.0000\n",
      "Epoch 25/100\n",
      "862/862 [==============================] - 1s 1ms/step - loss: 746036096.0000 - val_loss: 843607296.0000\n",
      "Epoch 26/100\n",
      "862/862 [==============================] - 1s 1ms/step - loss: 746034304.0000 - val_loss: 843606400.0000\n",
      "Epoch 27/100\n",
      "862/862 [==============================] - 1s 1ms/step - loss: 746032960.0000 - val_loss: 843605504.0000\n",
      "Epoch 28/100\n",
      "862/862 [==============================] - 1s 1ms/step - loss: 746034624.0000 - val_loss: 843604416.0000\n",
      "Epoch 29/100\n",
      "862/862 [==============================] - 1s 1ms/step - loss: 746033408.0000 - val_loss: 843603456.0000\n",
      "Epoch 30/100\n",
      "862/862 [==============================] - 1s 1ms/step - loss: 746032256.0000 - val_loss: 843602368.0000\n",
      "Epoch 31/100\n",
      "862/862 [==============================] - 1s 1ms/step - loss: 746031488.0000 - val_loss: 843601088.0000\n",
      "Epoch 32/100\n",
      "862/862 [==============================] - 1s 1ms/step - loss: 746031872.0000 - val_loss: 843599744.0000\n",
      "Epoch 33/100\n",
      "862/862 [==============================] - 1s 1ms/step - loss: 746030336.0000 - val_loss: 843598272.0000\n",
      "Epoch 34/100\n",
      "862/862 [==============================] - 1s 1ms/step - loss: 746028288.0000 - val_loss: 843596864.0000\n",
      "Epoch 35/100\n",
      "862/862 [==============================] - 1s 1ms/step - loss: 746027136.0000 - val_loss: 843595392.0000\n",
      "Epoch 36/100\n",
      "862/862 [==============================] - 1s 1ms/step - loss: 746026304.0000 - val_loss: 843593600.0000\n",
      "Epoch 37/100\n",
      "862/862 [==============================] - 1s 1ms/step - loss: 746024128.0000 - val_loss: 843592000.0000\n",
      "Epoch 38/100\n",
      "862/862 [==============================] - 1s 1ms/step - loss: 746023808.0000 - val_loss: 843590144.0000\n",
      "Epoch 39/100\n",
      "862/862 [==============================] - 1s 1ms/step - loss: 746022336.0000 - val_loss: 843588032.0000\n",
      "Epoch 40/100\n",
      "862/862 [==============================] - 1s 1ms/step - loss: 746020416.0000 - val_loss: 843585920.0000\n",
      "Epoch 41/100\n",
      "862/862 [==============================] - 1s 1ms/step - loss: 746018432.0000 - val_loss: 843583744.0000\n",
      "Epoch 42/100\n",
      "862/862 [==============================] - 1s 1ms/step - loss: 746017024.0000 - val_loss: 843581824.0000\n",
      "Epoch 43/100\n",
      "862/862 [==============================] - 1s 1ms/step - loss: 746015232.0000 - val_loss: 843579264.0000\n",
      "Epoch 44/100\n",
      "862/862 [==============================] - 1s 1ms/step - loss: 746013376.0000 - val_loss: 843576576.0000\n",
      "Epoch 45/100\n",
      "862/862 [==============================] - 1s 1ms/step - loss: 746010368.0000 - val_loss: 843573952.0000\n",
      "Epoch 46/100\n",
      "862/862 [==============================] - 1s 1ms/step - loss: 746009344.0000 - val_loss: 843571072.0000\n",
      "Epoch 47/100\n",
      "862/862 [==============================] - 1s 1ms/step - loss: 746007168.0000 - val_loss: 843567808.0000\n",
      "Epoch 48/100\n",
      "862/862 [==============================] - 1s 1ms/step - loss: 746002816.0000 - val_loss: 843564800.0000\n",
      "Epoch 49/100\n",
      "862/862 [==============================] - 1s 1ms/step - loss: 746003264.0000 - val_loss: 843561536.0000\n",
      "Epoch 50/100\n",
      "862/862 [==============================] - 1s 1ms/step - loss: 746000704.0000 - val_loss: 843558016.0000\n",
      "Epoch 51/100\n",
      "862/862 [==============================] - 1s 1ms/step - loss: 745996800.0000 - val_loss: 843554048.0000\n",
      "Epoch 52/100\n",
      "862/862 [==============================] - 1s 1ms/step - loss: 745993600.0000 - val_loss: 843550464.0000\n",
      "Epoch 53/100\n",
      "862/862 [==============================] - 1s 1ms/step - loss: 745990784.0000 - val_loss: 843545920.0000\n",
      "Epoch 54/100\n",
      "862/862 [==============================] - 1s 1ms/step - loss: 745988096.0000 - val_loss: 843541824.0000\n",
      "Epoch 55/100\n",
      "862/862 [==============================] - 1s 1ms/step - loss: 745984256.0000 - val_loss: 843537664.0000\n",
      "Epoch 56/100\n",
      "862/862 [==============================] - 1s 1ms/step - loss: 745980928.0000 - val_loss: 843532800.0000\n",
      "Epoch 57/100\n",
      "862/862 [==============================] - 1s 1ms/step - loss: 745975680.0000 - val_loss: 843528256.0000\n",
      "Epoch 58/100\n",
      "862/862 [==============================] - 1s 1ms/step - loss: 745974976.0000 - val_loss: 843522816.0000\n",
      "Epoch 59/100\n",
      "862/862 [==============================] - 1s 1ms/step - loss: 745969152.0000 - val_loss: 843517440.0000\n",
      "Epoch 60/100\n",
      "862/862 [==============================] - 1s 1ms/step - loss: 745964608.0000 - val_loss: 843512128.0000\n",
      "Epoch 61/100\n",
      "862/862 [==============================] - 1s 1ms/step - loss: 745960832.0000 - val_loss: 843506944.0000\n",
      "Epoch 62/100\n",
      "862/862 [==============================] - 1s 1ms/step - loss: 745957888.0000 - val_loss: 843500608.0000\n",
      "Epoch 63/100\n",
      "862/862 [==============================] - 1s 1ms/step - loss: 745953024.0000 - val_loss: 843494336.0000\n",
      "Epoch 64/100\n",
      "862/862 [==============================] - 1s 1ms/step - loss: 745948096.0000 - val_loss: 843487616.0000\n",
      "Epoch 65/100\n",
      "862/862 [==============================] - 1s 1ms/step - loss: 745940800.0000 - val_loss: 843480768.0000\n",
      "Epoch 66/100\n",
      "862/862 [==============================] - 1s 1ms/step - loss: 745938752.0000 - val_loss: 843473984.0000\n",
      "Epoch 67/100\n",
      "862/862 [==============================] - 1s 1ms/step - loss: 745931456.0000 - val_loss: 843466432.0000\n",
      "Epoch 68/100\n",
      "862/862 [==============================] - 1s 1ms/step - loss: 745927040.0000 - val_loss: 843458816.0000\n",
      "Epoch 69/100\n",
      "862/862 [==============================] - 1s 1ms/step - loss: 745920576.0000 - val_loss: 843451200.0000\n",
      "Epoch 70/100\n",
      "862/862 [==============================] - 1s 1ms/step - loss: 745914112.0000 - val_loss: 843443392.0000\n",
      "Epoch 71/100\n",
      "862/862 [==============================] - 1s 1ms/step - loss: 745908992.0000 - val_loss: 843434944.0000\n",
      "Epoch 72/100\n",
      "862/862 [==============================] - 1s 1ms/step - loss: 745904576.0000 - val_loss: 843425920.0000\n",
      "Epoch 73/100\n",
      "862/862 [==============================] - 1s 1ms/step - loss: 745896896.0000 - val_loss: 843416640.0000\n",
      "Epoch 74/100\n",
      "862/862 [==============================] - 1s 1ms/step - loss: 745887744.0000 - val_loss: 843406912.0000\n",
      "Epoch 75/100\n",
      "862/862 [==============================] - 1s 1ms/step - loss: 745880128.0000 - val_loss: 843397952.0000\n",
      "Epoch 76/100\n",
      "862/862 [==============================] - 1s 1ms/step - loss: 745875328.0000 - val_loss: 843387392.0000\n",
      "Epoch 77/100\n",
      "862/862 [==============================] - 1s 1ms/step - loss: 745869632.0000 - val_loss: 843377152.0000\n",
      "Epoch 78/100\n",
      "862/862 [==============================] - 1s 1ms/step - loss: 745860224.0000 - val_loss: 843367168.0000\n",
      "Epoch 79/100\n",
      "862/862 [==============================] - 1s 1ms/step - loss: 745847552.0000 - val_loss: 843356160.0000\n",
      "Epoch 80/100\n",
      "862/862 [==============================] - 1s 1ms/step - loss: 745842816.0000 - val_loss: 843344960.0000\n",
      "Epoch 81/100\n",
      "862/862 [==============================] - 1s 1ms/step - loss: 745835584.0000 - val_loss: 843331904.0000\n",
      "Epoch 82/100\n",
      "862/862 [==============================] - 1s 1ms/step - loss: 745819520.0000 - val_loss: 843319872.0000\n",
      "Epoch 83/100\n",
      "862/862 [==============================] - 1s 1ms/step - loss: 745811840.0000 - val_loss: 843307008.0000\n",
      "Epoch 84/100\n",
      "862/862 [==============================] - 1s 1ms/step - loss: 745803648.0000 - val_loss: 843294144.0000\n",
      "Epoch 85/100\n",
      "862/862 [==============================] - 1s 1ms/step - loss: 745796480.0000 - val_loss: 843280512.0000\n",
      "Epoch 86/100\n",
      "862/862 [==============================] - 1s 1ms/step - loss: 745788224.0000 - val_loss: 843266944.0000\n",
      "Epoch 87/100\n",
      "862/862 [==============================] - 1s 1ms/step - loss: 745776960.0000 - val_loss: 843253248.0000\n",
      "Epoch 88/100\n",
      "862/862 [==============================] - 1s 1ms/step - loss: 745763776.0000 - val_loss: 843237504.0000\n",
      "Epoch 89/100\n",
      "862/862 [==============================] - 1s 1ms/step - loss: 745752896.0000 - val_loss: 843222336.0000\n",
      "Epoch 90/100\n",
      "862/862 [==============================] - 1s 1ms/step - loss: 745743872.0000 - val_loss: 843207232.0000\n",
      "Epoch 91/100\n",
      "862/862 [==============================] - 1s 1ms/step - loss: 745732096.0000 - val_loss: 843191104.0000\n",
      "Epoch 92/100\n",
      "862/862 [==============================] - 1s 1ms/step - loss: 745716416.0000 - val_loss: 843175808.0000\n",
      "Epoch 93/100\n",
      "862/862 [==============================] - 1s 1ms/step - loss: 745707776.0000 - val_loss: 843160000.0000\n",
      "Epoch 94/100\n",
      "862/862 [==============================] - 1s 1ms/step - loss: 745691584.0000 - val_loss: 843142656.0000\n",
      "Epoch 95/100\n",
      "862/862 [==============================] - 1s 1ms/step - loss: 745682048.0000 - val_loss: 843124672.0000\n",
      "Epoch 96/100\n",
      "862/862 [==============================] - 1s 1ms/step - loss: 745667712.0000 - val_loss: 843105984.0000\n",
      "Epoch 97/100\n",
      "862/862 [==============================] - 1s 1ms/step - loss: 745649088.0000 - val_loss: 843086080.0000\n",
      "Epoch 98/100\n",
      "862/862 [==============================] - 1s 1ms/step - loss: 745641600.0000 - val_loss: 843067840.0000\n",
      "Epoch 99/100\n",
      "862/862 [==============================] - 1s 1ms/step - loss: 745628800.0000 - val_loss: 843046400.0000\n",
      "Epoch 100/100\n",
      "862/862 [==============================] - 1s 1ms/step - loss: 745611264.0000 - val_loss: 843027136.0000\n"
     ]
    }
   ],
   "source": [
    "from tensorflow.keras.models import Sequential\n",
    "from tensorflow.keras.layers import Input, Dense, Activation, Dropout\n",
    "from tensorflow.keras.optimizers import Adam\n",
    "\n",
    "X_train = np.array(X_train)\n",
    "X_test = np.array(X_test)\n",
    "y_train = np.array(y_train)\n",
    "y_test = np.array(y_test)\n",
    "\n",
    "model = Sequential()\n",
    "\n",
    "model.add(Dense(X_train.shape[1], activation='relu'))\n",
    "model.add(Dense(32, activation='relu'))\n",
    "\n",
    "model.add(Dense(64, activation='relu'))\n",
    "\n",
    "model.add(Dense(128, activation='relu'))\n",
    "\n",
    "model.add(Dense(512, activation='relu'))\n",
    "model.add(Dropout(0.1))\n",
    "model.add(Dense(1))\n",
    "\n",
    "model.compile(optimizer=Adam(0.00001), loss='mse')\n",
    "\n",
    "r = model.fit(X_train, y_train,\n",
    "              validation_data=(X_test,y_test),\n",
    "              batch_size=1,\n",
    "              epochs=100)"
   ]
  },
  {
   "cell_type": "code",
   "execution_count": 33,
   "metadata": {},
   "outputs": [
    {
     "name": "stdout",
     "output_type": "stream",
     "text": [
      "Test evaluation\n",
      "MAE: 2901.3191105880737\n",
      "MSE: 843027883.2881826\n",
      "RMSE: 29034.942453674375\n",
      "R2 Square -0.009779144547211516\n"
     ]
    }
   ],
   "source": [
    "test_pred = model.predict(X_test)\n",
    "train_pred = model.predict(X_train)\n",
    "\n",
    "print('Test evaluation')\n",
    "evaluate(y_test, test_pred, \"Artificial Neural Network\")"
   ]
  },
  {
   "cell_type": "markdown",
   "metadata": {},
   "source": [
    "## Comparativa"
   ]
  },
  {
   "cell_type": "code",
   "execution_count": 34,
   "metadata": {},
   "outputs": [
    {
     "data": {
      "text/html": [
       "<div>\n",
       "<style scoped>\n",
       "    .dataframe tbody tr th:only-of-type {\n",
       "        vertical-align: middle;\n",
       "    }\n",
       "\n",
       "    .dataframe tbody tr th {\n",
       "        vertical-align: top;\n",
       "    }\n",
       "\n",
       "    .dataframe thead th {\n",
       "        text-align: right;\n",
       "    }\n",
       "</style>\n",
       "<table border=\"1\" class=\"dataframe\">\n",
       "  <thead>\n",
       "    <tr style=\"text-align: right;\">\n",
       "      <th></th>\n",
       "      <th>Model</th>\n",
       "      <th>MAE</th>\n",
       "      <th>MSE</th>\n",
       "      <th>RMSE</th>\n",
       "      <th>R2 Square</th>\n",
       "    </tr>\n",
       "  </thead>\n",
       "  <tbody>\n",
       "    <tr>\n",
       "      <th>0</th>\n",
       "      <td>Lineal regression</td>\n",
       "      <td>1118.582913</td>\n",
       "      <td>1.694141e+08</td>\n",
       "      <td>13015.918800</td>\n",
       "      <td>0.797076</td>\n",
       "    </tr>\n",
       "    <tr>\n",
       "      <th>1</th>\n",
       "      <td>Support Vector Machine - linear</td>\n",
       "      <td>1060.546511</td>\n",
       "      <td>1.993522e+08</td>\n",
       "      <td>14119.212294</td>\n",
       "      <td>0.761216</td>\n",
       "    </tr>\n",
       "    <tr>\n",
       "      <th>2</th>\n",
       "      <td>Support Vector Machine - poly</td>\n",
       "      <td>4234.361037</td>\n",
       "      <td>3.074259e+09</td>\n",
       "      <td>55446.003656</td>\n",
       "      <td>-2.682349</td>\n",
       "    </tr>\n",
       "    <tr>\n",
       "      <th>3</th>\n",
       "      <td>Random Forest</td>\n",
       "      <td>519.710926</td>\n",
       "      <td>2.289911e+07</td>\n",
       "      <td>4785.301250</td>\n",
       "      <td>0.972571</td>\n",
       "    </tr>\n",
       "    <tr>\n",
       "      <th>4</th>\n",
       "      <td>Artificial Neural Network</td>\n",
       "      <td>2901.319111</td>\n",
       "      <td>8.430279e+08</td>\n",
       "      <td>29034.942454</td>\n",
       "      <td>-0.009779</td>\n",
       "    </tr>\n",
       "  </tbody>\n",
       "</table>\n",
       "</div>"
      ],
      "text/plain": [
       "                             Model          MAE           MSE          RMSE  \\\n",
       "0                Lineal regression  1118.582913  1.694141e+08  13015.918800   \n",
       "1  Support Vector Machine - linear  1060.546511  1.993522e+08  14119.212294   \n",
       "2    Support Vector Machine - poly  4234.361037  3.074259e+09  55446.003656   \n",
       "3                    Random Forest   519.710926  2.289911e+07   4785.301250   \n",
       "4        Artificial Neural Network  2901.319111  8.430279e+08  29034.942454   \n",
       "\n",
       "   R2 Square  \n",
       "0   0.797076  \n",
       "1   0.761216  \n",
       "2  -2.682349  \n",
       "3   0.972571  \n",
       "4  -0.009779  "
      ]
     },
     "execution_count": 34,
     "metadata": {},
     "output_type": "execute_result"
    }
   ],
   "source": [
    "df_statistics"
   ]
  },
  {
   "cell_type": "markdown",
   "metadata": {},
   "source": [
    "Como se puede observar el modelo que mejores resultados obtiene es el random forest"
   ]
  },
  {
   "cell_type": "markdown",
   "metadata": {},
   "source": [
    "## Guardado del modelo"
   ]
  },
  {
   "cell_type": "markdown",
   "metadata": {},
   "source": [
    "Una vez elegido el modelo, se guarda en un fichero para luego ser utilizado en el script, para ello se utiliza la libreria joblib"
   ]
  },
  {
   "cell_type": "code",
   "execution_count": 35,
   "metadata": {},
   "outputs": [
    {
     "data": {
      "text/plain": [
       "['random_forest.joblib']"
      ]
     },
     "execution_count": 35,
     "metadata": {},
     "output_type": "execute_result"
    }
   ],
   "source": [
    "import joblib\n",
    "joblib.dump(rf_reg, \"random_forest.joblib\", compress=3)\n"
   ]
  },
  {
   "cell_type": "code",
   "execution_count": 50,
   "metadata": {},
   "outputs": [],
   "source": [
    "loaded_rf = joblib.load(\"random_forest.joblib\")\n",
    "test = cleandf[['Current Portion of Long-Term Debt', 'Cash Flow per Share']]\n",
    "pred = loaded_rf.predict(test)\n"
   ]
  },
  {
   "cell_type": "code",
   "execution_count": 51,
   "metadata": {
    "collapsed": true,
    "jupyter": {
     "outputs_hidden": true
    }
   },
   "outputs": [
    {
     "name": "stderr",
     "output_type": "stream",
     "text": [
      "<ipython-input-51-8b691c586a79>:2: SettingWithCopyWarning: \n",
      "A value is trying to be set on a copy of a slice from a DataFrame.\n",
      "Try using .loc[row_indexer,col_indexer] = value instead\n",
      "\n",
      "See the caveats in the documentation: https://pandas.pydata.org/pandas-docs/stable/user_guide/indexing.html#returning-a-view-versus-a-copy\n",
      "  data['Predicted'] = pred\n"
     ]
    }
   ],
   "source": [
    "data = cleandf[['Company Name', 'Next year price']]\n",
    "data['Predicted'] = pred\n",
    "\n",
    "data.to_csv(\"predict.csv\")"
   ]
  },
  {
   "cell_type": "code",
   "execution_count": null,
   "metadata": {},
   "outputs": [],
   "source": []
  },
  {
   "cell_type": "code",
   "execution_count": null,
   "metadata": {},
   "outputs": [],
   "source": []
  }
 ],
 "metadata": {
  "colab": {
   "collapsed_sections": [],
   "name": "Tema7.ipynb",
   "provenance": []
  },
  "kernelspec": {
   "display_name": "Python 3",
   "language": "python",
   "name": "python3"
  },
  "language_info": {
   "codemirror_mode": {
    "name": "ipython",
    "version": 3
   },
   "file_extension": ".py",
   "mimetype": "text/x-python",
   "name": "python",
   "nbconvert_exporter": "python",
   "pygments_lexer": "ipython3",
   "version": "3.8.5"
  }
 },
 "nbformat": 4,
 "nbformat_minor": 4
}
